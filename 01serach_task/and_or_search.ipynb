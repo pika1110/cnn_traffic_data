{
 "cells": [
  {
   "cell_type": "code",
   "execution_count": null,
   "metadata": {},
   "outputs": [],
   "source": [
    "# coding = utf-8\n",
    "from IPython.core.display import HTML\n",
    "from IPython.display import display\n",
    "\n",
    "\n",
    "def word_match(word, title):\n",
    "    result = (word in title)\n",
    "    return result\n",
    "    \n",
    "    \n",
    "f = open('news', 'r', encoding='UTF-8')\n",
    "title_list = []\n",
    "for line in f.readlines():\n",
    "    title_list.append(line.strip())\n",
    "title_list = [item for item in set(title for title in title_list)]\n",
    "\n",
    "keyword = '车 and (高速 or 假期)'\n",
    "for title in title_list:\n",
    "    if eval(\"word_match('车', title) \"):\n",
    "            if eval(\"word_match('高速', title) \"):\n",
    "                title = title.replace('车', '<span style=\"color:red\">{}</span>'.format('车'))\n",
    "                title = title.replace('高速', '<span style=\"color:red\">{}</span>'.format('高速'))\n",
    "                display(HTML(title))\n",
    "            \n",
    "            if eval(\"word_match('假期', title) \"):\n",
    "                title = title.replace('车', '<span style=\"color:red\">{}</span>'.format('车'))\n",
    "                title = title.replace('假期', '<span style=\"color:red\">{}</span>'.format('假期'))\n",
    "                display(HTML(title))\n",
    "\n"
   ]
  }
 ],
 "metadata": {
  "kernelspec": {
   "display_name": "Python 2",
   "language": "python",
   "name": "python2"
  },
  "language_info": {
   "codemirror_mode": {
    "name": "ipython",
    "version": 2
   },
   "file_extension": ".py",
   "mimetype": "text/x-python",
   "name": "python",
   "nbconvert_exporter": "python",
   "pygments_lexer": "ipython2",
   "version": "2.7.6"
  }
 },
 "nbformat": 4,
 "nbformat_minor": 0
}
